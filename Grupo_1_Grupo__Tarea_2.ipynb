{
  "nbformat": 4,
  "nbformat_minor": 0,
  "metadata": {
    "colab": {
      "provenance": []
    },
    "kernelspec": {
      "name": "python3",
      "display_name": "Python 3"
    },
    "language_info": {
      "name": "python"
    }
  },
  "cells": [
    {
      "cell_type": "markdown",
      "source": [
        "**Tarea 2 del taller de Python **\n"
      ],
      "metadata": {
        "id": "gCOFyBU-xew1"
      }
    },
    {
      "cell_type": "markdown",
      "source": [
        "I. Copia el siguiente diccionario en una cédula de Colab. A partir de él, crea un dataframe\n",
        "llamado 𝒏𝒇𝒐 utilizando Pandas.\n",
        "𝒅𝒂𝒕𝒂_𝒄𝒊𝒖𝒅𝒂𝒅𝒆𝒔 = {\n",
        "′𝑪𝒊𝒖𝒅𝒂𝒅′: [′𝑳𝒊𝒎𝒂′, ′𝑨𝒓𝒆𝒒𝒖𝒊𝒑𝒂′, ′𝑻𝒓𝒖𝒋𝒊𝒍𝒍𝒐′, ′𝑪𝒖𝒔𝒄𝒐′, ′𝑪𝒉𝒊𝒄𝒍𝒂𝒚𝒐′, ′𝑷𝒊𝒖𝒓𝒂′, ′𝑰𝒒𝒖𝒊𝒕𝒐𝒔′, ′𝑯𝒖𝒂𝒏𝒄𝒂𝒚𝒐′, ′𝑻𝒂𝒄𝒏𝒂′, ′𝑷𝒖𝒄𝒂𝒍𝒍\n",
        "′𝑯𝒂𝒃𝒊𝒕𝒂𝒏𝒕𝒆𝒔′: [𝟏𝟎𝟒𝟕𝟗𝟗𝟔, 𝟏𝟎𝟎𝟏𝟔𝟗, 𝟗𝟐𝟑𝟑𝟏, 𝟒𝟐𝟖𝟒𝟓𝟎, 𝟑𝟎𝟓𝟕𝟏𝟕, 𝟒𝟖𝟒𝟒𝟕𝟓, 𝟒𝟒𝟏𝟔𝟒𝟗, 𝟑𝟖𝟓𝟎𝟗𝟖, 𝟐𝟗𝟒𝟑𝟗𝟓, 𝟐𝟖𝟑𝟕𝟑𝟒],\n",
        "′𝑨𝒓𝒆𝒂_𝒌𝒎𝟐′: [𝟐𝟔𝟕𝟐. 𝟐𝟖, 𝟏𝟓𝟒𝟓. 𝟕𝟕, 𝟏𝟒𝟖𝟕. 𝟕, 𝟏𝟏𝟔. 𝟓, 𝟐𝟕𝟗. 𝟖𝟗, 𝟔𝟐𝟏𝟕. 𝟐𝟔, 𝟑𝟔𝟖. 𝟗, 𝟏𝟎𝟗. 𝟏𝟗, 𝟓𝟗. 𝟒, 𝟒𝟖𝟑. 𝟒𝟒],\n",
        "′𝑨𝒍𝒕𝒊𝒕𝒖𝒅_𝒎′: [𝟏𝟓𝟒, 𝟐𝟑𝟐𝟓, 𝟑𝟒, 𝟑𝟑𝟗𝟗, 𝟐𝟗, 𝟐𝟗, 𝟏𝟎𝟔, 𝟑𝟐𝟕𝟏, 𝟓𝟔𝟐, 𝟏𝟓𝟔],\n",
        "′𝑫𝒆𝒏𝒔𝒊𝒅𝒂𝒅_𝒑𝒐𝒃𝒍𝒂𝒄𝒊𝒐𝒏_𝒑𝒐𝒓_𝒌𝒎𝟐′: [𝟑𝟗𝟐𝟒, 𝟔𝟒. 𝟖, 𝟔𝟐. 𝟏, 𝟑𝟔𝟕𝟑, 𝟏𝟎𝟗𝟏. 𝟔, 𝟕𝟕. 𝟗, 𝟏𝟏𝟗𝟔, 𝟑𝟓𝟐𝟖. 𝟔, 𝟒𝟗𝟔𝟔, 𝟓𝟖𝟕. 𝟐]"
      ],
      "metadata": {
        "id": "PXJYfiG_xmkH"
      }
    },
    {
      "cell_type": "code",
      "execution_count": null,
      "metadata": {
        "colab": {
          "base_uri": "https://localhost:8080/"
        },
        "id": "KDhG8ilLw4gl",
        "outputId": "89ceec9e-628c-4c7e-f8b6-d6dda9922221"
      },
      "outputs": [
        {
          "output_type": "stream",
          "name": "stdout",
          "text": [
            "     Ciudad  Habitantes  Area_km2  Altitud_m  Densidad_poblacion_por_km2\n",
            "0      Lima     1047996   2672.28        154                      3924.0\n",
            "1  Arequipa      100169   1545.77       2325                        64.8\n",
            "2  Trujillo       92331   1487.70         34                        62.1\n",
            "3     Cusco      428450    116.50       3399                      3673.0\n",
            "4  Chiclayo      305717    279.89         29                      1091.6\n",
            "5     Piura      484475   6217.26         29                        77.9\n",
            "6   Iquitos      441649    368.90        106                      1196.0\n",
            "7  Huancayo      385098    109.19       3271                      3528.6\n",
            "8     Tacna      294395     59.40        562                      4966.0\n",
            "9  Pucallpa      283734    483.44        156                       587.2\n"
          ]
        }
      ],
      "source": [
        "import pandas as pd\n",
        "\n",
        "data_ciudades = {\n",
        "    'Ciudad': ['Lima', 'Arequipa', 'Trujillo', 'Cusco', 'Chiclayo', 'Piura', 'Iquitos', 'Huancayo', 'Tacna', 'Pucallpa'],\n",
        "    'Habitantes': [1047996, 100169, 92331, 428450, 305717, 484475, 441649, 385098, 294395, 283734],\n",
        "    'Area_km2': [2672.28, 1545.77, 1487.7, 116.5, 279.89, 6217.26, 368.9, 109.19, 59.4, 483.44],\n",
        "    'Altitud_m': [154, 2325, 34, 3399, 29, 29, 106, 3271, 562, 156],\n",
        "    'Densidad_poblacion_por_km2': [3924, 64.8, 62.1, 3673, 1091.6, 77.9, 1196, 3528.6, 4966, 587.2]\n",
        "}\n",
        "\n",
        "nfo = pd.DataFrame(data_ciudades)\n",
        "\n",
        "print(nfo)\n"
      ]
    },
    {
      "cell_type": "markdown",
      "source": [
        "II. Realiza el mismo procedimiento con el siguiente diccionario. A partir de él, crea un\n",
        "dataframe llamado 𝒏𝒐𝒎𝒃𝒓𝒆𝒔.\n",
        "𝒅𝒂𝒕𝒂_𝒄𝒊𝒖𝒅𝒂𝒅𝒆𝒔_𝟐 = {\n",
        "′𝑪𝒊𝒖𝒅𝒂𝒅′: [′𝑳𝒊𝒎𝒂′, ′𝑨𝒓𝒆𝒒𝒖𝒊𝒑𝒂′, ′𝑻𝒓𝒖𝒋𝒊𝒍𝒍𝒐′, ′𝑪𝒖𝒔𝒄𝒐′, ′𝑪𝒉𝒊𝒄𝒍𝒂𝒚𝒐′, ′𝑷𝒊𝒖𝒓𝒂′, ′𝑰𝒒𝒖𝒊𝒕𝒐𝒔′, ′𝑯𝒖𝒂𝒏𝒄𝒂𝒚𝒐′, ′𝑻𝒂𝒄𝒏𝒂′, ′𝑷𝒖𝒄𝒂𝒍𝒍\n",
        "′𝑮𝒆𝒏𝒕𝒊𝒍𝒊𝒄𝒊𝒐′: [′𝑳𝒊𝒎𝒆𝒏𝒔𝒆′, ′𝑨𝒓𝒆𝒒𝒖𝒊𝒑𝒆ñ𝒐′, ′𝑻𝒓𝒖𝒋𝒊𝒍𝒍𝒂𝒏𝒐′, ′𝑪𝒖𝒔𝒒𝒖𝒆ñ𝒐′, ′𝑪𝒉𝒊𝒄𝒍𝒂𝒚𝒂𝒏𝒐′, ′𝑷𝒊𝒖𝒓𝒂𝒏𝒐′, ′𝑰𝒒𝒖𝒊𝒕𝒆ñ𝒐′, ′𝑯𝒖𝒂𝒏\n",
        "′𝑷𝒓𝒐𝒗𝒊𝒏𝒄𝒊𝒂′: [′𝑳𝒊𝒎𝒂′, ′𝑨𝒓𝒆𝒒𝒖𝒊𝒑𝒂′, ′𝑻𝒓𝒖𝒋𝒊𝒍𝒍𝒐′, ′𝑪𝒖𝒔𝒄𝒐′, ′𝑪𝒉𝒊𝒄𝒍𝒂𝒚𝒐′, ′𝑷𝒊𝒖𝒓𝒂′, ′𝑴𝒂𝒚𝒏𝒂𝒔′, ′𝑯𝒖𝒂𝒏𝒄𝒂𝒚𝒐′, ′𝑻𝒂𝒄𝒏𝒂′, ′𝑪𝒐𝒓\n",
        "′𝑹𝒆𝒈𝒊𝒐𝒏′: [′𝑳𝒊𝒎𝒂′, ′𝑨𝒓𝒆𝒒𝒖𝒊𝒑𝒂′, ′𝑳𝒂 𝑳𝒊𝒃𝒆𝒓𝒕𝒂𝒅′, ′𝑪𝒖𝒔𝒄𝒐′, ′𝑳𝒂𝒎𝒃𝒂𝒚𝒆𝒒𝒖𝒆′, ′𝑷𝒊𝒖𝒓𝒂′, ′𝑳𝒐𝒓𝒆𝒕𝒐′, ′𝑱𝒖𝒏í𝒏′, ′𝑻𝒂𝒄𝒏𝒂′, ′𝑼𝒄𝒂�"
      ],
      "metadata": {
        "id": "ypSZvHQL3TSA"
      }
    },
    {
      "cell_type": "code",
      "source": [
        "import pandas as pd\n",
        "\n",
        "data_ciudades_2 = {\n",
        "    'Ciudad': ['Lima', 'Arequipa', 'Trujillo', 'Cusco', 'Chiclayo', 'Piura', 'Iquitos', 'Huancayo', 'Tacna', 'Pucallpa'],\n",
        "    'Gentilicio': ['Limense', 'Arequipeño', 'Trujillano', 'Cusqueño', 'Chiclayano', 'Piurano', 'Iquiteño', 'Huancaíno', 'Tacneño', 'Pucallpino'],\n",
        "    'Provincia': ['Lima', 'Arequipa', 'Trujillo', 'Cusco', 'Chiclayo', 'Piura', 'Maynas', 'Huancayo', 'Tacna', 'Coronel Portillo'],\n",
        "    'Region': ['Lima', 'Arequipa', 'La Libertad', 'Cusco', 'Lambayeque', 'Piura', 'Loreto', 'Junín', 'Tacna', 'Ucayali']\n",
        "}\n",
        "\n",
        "nombres = pd.DataFrame(data_ciudades_2)\n",
        "\n",
        "print(nombres)\n"
      ],
      "metadata": {
        "colab": {
          "base_uri": "https://localhost:8080/"
        },
        "id": "aqafozAX3eeY",
        "outputId": "07593eae-1938-45b1-ded7-9c4da9050ebe"
      },
      "execution_count": null,
      "outputs": [
        {
          "output_type": "stream",
          "name": "stdout",
          "text": [
            "     Ciudad  Gentilicio         Provincia       Region\n",
            "0      Lima     Limense              Lima         Lima\n",
            "1  Arequipa  Arequipeño          Arequipa     Arequipa\n",
            "2  Trujillo  Trujillano          Trujillo  La Libertad\n",
            "3     Cusco    Cusqueño             Cusco        Cusco\n",
            "4  Chiclayo  Chiclayano          Chiclayo   Lambayeque\n",
            "5     Piura     Piurano             Piura        Piura\n",
            "6   Iquitos    Iquiteño            Maynas       Loreto\n",
            "7  Huancayo   Huancaíno          Huancayo        Junín\n",
            "8     Tacna     Tacneño             Tacna        Tacna\n",
            "9  Pucallpa  Pucallpino  Coronel Portillo      Ucayali\n"
          ]
        }
      ]
    },
    {
      "cell_type": "markdown",
      "source": [
        "III. Con ambos dataframes, realiza un inner join. Guarda el resultado en un nuevo dataframe\n",
        "llamado 𝒄𝒖𝒂𝒅𝒓𝒐_𝟏\n"
      ],
      "metadata": {
        "id": "evJtendL3vd_"
      }
    },
    {
      "cell_type": "code",
      "source": [
        "cuadro_1 = pd.merge(nfo, nombres, on='Ciudad', how='inner')\n",
        "\n",
        "print(cuadro_1)\n"
      ],
      "metadata": {
        "colab": {
          "base_uri": "https://localhost:8080/"
        },
        "id": "m_iP0n_i3zrQ",
        "outputId": "f9156254-954b-47da-9bce-ce6ab1430682"
      },
      "execution_count": null,
      "outputs": [
        {
          "output_type": "stream",
          "name": "stdout",
          "text": [
            "     Ciudad  Habitantes  Area_km2  Altitud_m  Densidad_poblacion_por_km2  \\\n",
            "0      Lima     1047996   2672.28        154                      3924.0   \n",
            "1  Arequipa      100169   1545.77       2325                        64.8   \n",
            "2  Trujillo       92331   1487.70         34                        62.1   \n",
            "3     Cusco      428450    116.50       3399                      3673.0   \n",
            "4  Chiclayo      305717    279.89         29                      1091.6   \n",
            "5     Piura      484475   6217.26         29                        77.9   \n",
            "6   Iquitos      441649    368.90        106                      1196.0   \n",
            "7  Huancayo      385098    109.19       3271                      3528.6   \n",
            "8     Tacna      294395     59.40        562                      4966.0   \n",
            "9  Pucallpa      283734    483.44        156                       587.2   \n",
            "\n",
            "   Gentilicio         Provincia       Region  \n",
            "0     Limense              Lima         Lima  \n",
            "1  Arequipeño          Arequipa     Arequipa  \n",
            "2  Trujillano          Trujillo  La Libertad  \n",
            "3    Cusqueño             Cusco        Cusco  \n",
            "4  Chiclayano          Chiclayo   Lambayeque  \n",
            "5     Piurano             Piura        Piura  \n",
            "6    Iquiteño            Maynas       Loreto  \n",
            "7   Huancaíno          Huancayo        Junín  \n",
            "8     Tacneño             Tacna        Tacna  \n",
            "9  Pucallpino  Coronel Portillo      Ucayali  \n"
          ]
        }
      ]
    },
    {
      "cell_type": "markdown",
      "source": [
        "IV. Resume las estadísticas descriptivas del dataframe y responde ¿Cuál es la mínima\n",
        "densidad poblacional? ¿A cuál ciudad corresponde? ¿Y la máxima?"
      ],
      "metadata": {
        "id": "nm2xUX8b4O-_"
      }
    },
    {
      "cell_type": "code",
      "source": [
        "# Resumen de las estadísticas descriptivas\n",
        "cuadro_1.describe()\n"
      ],
      "metadata": {
        "colab": {
          "base_uri": "https://localhost:8080/",
          "height": 300
        },
        "id": "MfJusdhm4YQX",
        "outputId": "92ce2f00-0999-4b73-cca7-44e1067f9127"
      },
      "execution_count": null,
      "outputs": [
        {
          "output_type": "execute_result",
          "data": {
            "text/plain": [
              "         Habitantes    Area_km2    Altitud_m  Densidad_poblacion_por_km2\n",
              "count  1.000000e+01    10.00000    10.000000                   10.000000\n",
              "mean   3.864014e+05  1334.03300  1006.500000                 1917.120000\n",
              "std    2.679283e+05  1917.13852  1410.508754                 1892.333136\n",
              "min    9.233100e+04    59.40000    29.000000                   62.100000\n",
              "25%    2.863992e+05   157.34750    52.000000                  205.225000\n",
              "50%    3.454075e+05   426.17000   155.000000                 1143.800000\n",
              "75%    4.383492e+05  1531.25250  1884.250000                 3636.900000\n",
              "max    1.047996e+06  6217.26000  3399.000000                 4966.000000"
            ],
            "text/html": [
              "\n",
              "  <div id=\"df-ae583c5e-528d-4516-b95c-490c8d300a50\" class=\"colab-df-container\">\n",
              "    <div>\n",
              "<style scoped>\n",
              "    .dataframe tbody tr th:only-of-type {\n",
              "        vertical-align: middle;\n",
              "    }\n",
              "\n",
              "    .dataframe tbody tr th {\n",
              "        vertical-align: top;\n",
              "    }\n",
              "\n",
              "    .dataframe thead th {\n",
              "        text-align: right;\n",
              "    }\n",
              "</style>\n",
              "<table border=\"1\" class=\"dataframe\">\n",
              "  <thead>\n",
              "    <tr style=\"text-align: right;\">\n",
              "      <th></th>\n",
              "      <th>Habitantes</th>\n",
              "      <th>Area_km2</th>\n",
              "      <th>Altitud_m</th>\n",
              "      <th>Densidad_poblacion_por_km2</th>\n",
              "    </tr>\n",
              "  </thead>\n",
              "  <tbody>\n",
              "    <tr>\n",
              "      <th>count</th>\n",
              "      <td>1.000000e+01</td>\n",
              "      <td>10.00000</td>\n",
              "      <td>10.000000</td>\n",
              "      <td>10.000000</td>\n",
              "    </tr>\n",
              "    <tr>\n",
              "      <th>mean</th>\n",
              "      <td>3.864014e+05</td>\n",
              "      <td>1334.03300</td>\n",
              "      <td>1006.500000</td>\n",
              "      <td>1917.120000</td>\n",
              "    </tr>\n",
              "    <tr>\n",
              "      <th>std</th>\n",
              "      <td>2.679283e+05</td>\n",
              "      <td>1917.13852</td>\n",
              "      <td>1410.508754</td>\n",
              "      <td>1892.333136</td>\n",
              "    </tr>\n",
              "    <tr>\n",
              "      <th>min</th>\n",
              "      <td>9.233100e+04</td>\n",
              "      <td>59.40000</td>\n",
              "      <td>29.000000</td>\n",
              "      <td>62.100000</td>\n",
              "    </tr>\n",
              "    <tr>\n",
              "      <th>25%</th>\n",
              "      <td>2.863992e+05</td>\n",
              "      <td>157.34750</td>\n",
              "      <td>52.000000</td>\n",
              "      <td>205.225000</td>\n",
              "    </tr>\n",
              "    <tr>\n",
              "      <th>50%</th>\n",
              "      <td>3.454075e+05</td>\n",
              "      <td>426.17000</td>\n",
              "      <td>155.000000</td>\n",
              "      <td>1143.800000</td>\n",
              "    </tr>\n",
              "    <tr>\n",
              "      <th>75%</th>\n",
              "      <td>4.383492e+05</td>\n",
              "      <td>1531.25250</td>\n",
              "      <td>1884.250000</td>\n",
              "      <td>3636.900000</td>\n",
              "    </tr>\n",
              "    <tr>\n",
              "      <th>max</th>\n",
              "      <td>1.047996e+06</td>\n",
              "      <td>6217.26000</td>\n",
              "      <td>3399.000000</td>\n",
              "      <td>4966.000000</td>\n",
              "    </tr>\n",
              "  </tbody>\n",
              "</table>\n",
              "</div>\n",
              "    <div class=\"colab-df-buttons\">\n",
              "\n",
              "  <div class=\"colab-df-container\">\n",
              "    <button class=\"colab-df-convert\" onclick=\"convertToInteractive('df-ae583c5e-528d-4516-b95c-490c8d300a50')\"\n",
              "            title=\"Convert this dataframe to an interactive table.\"\n",
              "            style=\"display:none;\">\n",
              "\n",
              "  <svg xmlns=\"http://www.w3.org/2000/svg\" height=\"24px\" viewBox=\"0 -960 960 960\">\n",
              "    <path d=\"M120-120v-720h720v720H120Zm60-500h600v-160H180v160Zm220 220h160v-160H400v160Zm0 220h160v-160H400v160ZM180-400h160v-160H180v160Zm440 0h160v-160H620v160ZM180-180h160v-160H180v160Zm440 0h160v-160H620v160Z\"/>\n",
              "  </svg>\n",
              "    </button>\n",
              "\n",
              "  <style>\n",
              "    .colab-df-container {\n",
              "      display:flex;\n",
              "      gap: 12px;\n",
              "    }\n",
              "\n",
              "    .colab-df-convert {\n",
              "      background-color: #E8F0FE;\n",
              "      border: none;\n",
              "      border-radius: 50%;\n",
              "      cursor: pointer;\n",
              "      display: none;\n",
              "      fill: #1967D2;\n",
              "      height: 32px;\n",
              "      padding: 0 0 0 0;\n",
              "      width: 32px;\n",
              "    }\n",
              "\n",
              "    .colab-df-convert:hover {\n",
              "      background-color: #E2EBFA;\n",
              "      box-shadow: 0px 1px 2px rgba(60, 64, 67, 0.3), 0px 1px 3px 1px rgba(60, 64, 67, 0.15);\n",
              "      fill: #174EA6;\n",
              "    }\n",
              "\n",
              "    .colab-df-buttons div {\n",
              "      margin-bottom: 4px;\n",
              "    }\n",
              "\n",
              "    [theme=dark] .colab-df-convert {\n",
              "      background-color: #3B4455;\n",
              "      fill: #D2E3FC;\n",
              "    }\n",
              "\n",
              "    [theme=dark] .colab-df-convert:hover {\n",
              "      background-color: #434B5C;\n",
              "      box-shadow: 0px 1px 3px 1px rgba(0, 0, 0, 0.15);\n",
              "      filter: drop-shadow(0px 1px 2px rgba(0, 0, 0, 0.3));\n",
              "      fill: #FFFFFF;\n",
              "    }\n",
              "  </style>\n",
              "\n",
              "    <script>\n",
              "      const buttonEl =\n",
              "        document.querySelector('#df-ae583c5e-528d-4516-b95c-490c8d300a50 button.colab-df-convert');\n",
              "      buttonEl.style.display =\n",
              "        google.colab.kernel.accessAllowed ? 'block' : 'none';\n",
              "\n",
              "      async function convertToInteractive(key) {\n",
              "        const element = document.querySelector('#df-ae583c5e-528d-4516-b95c-490c8d300a50');\n",
              "        const dataTable =\n",
              "          await google.colab.kernel.invokeFunction('convertToInteractive',\n",
              "                                                    [key], {});\n",
              "        if (!dataTable) return;\n",
              "\n",
              "        const docLinkHtml = 'Like what you see? Visit the ' +\n",
              "          '<a target=\"_blank\" href=https://colab.research.google.com/notebooks/data_table.ipynb>data table notebook</a>'\n",
              "          + ' to learn more about interactive tables.';\n",
              "        element.innerHTML = '';\n",
              "        dataTable['output_type'] = 'display_data';\n",
              "        await google.colab.output.renderOutput(dataTable, element);\n",
              "        const docLink = document.createElement('div');\n",
              "        docLink.innerHTML = docLinkHtml;\n",
              "        element.appendChild(docLink);\n",
              "      }\n",
              "    </script>\n",
              "  </div>\n",
              "\n",
              "\n",
              "<div id=\"df-518ff6ec-6d08-4a13-9ae6-93f8e018eafc\">\n",
              "  <button class=\"colab-df-quickchart\" onclick=\"quickchart('df-518ff6ec-6d08-4a13-9ae6-93f8e018eafc')\"\n",
              "            title=\"Suggest charts\"\n",
              "            style=\"display:none;\">\n",
              "\n",
              "<svg xmlns=\"http://www.w3.org/2000/svg\" height=\"24px\"viewBox=\"0 0 24 24\"\n",
              "     width=\"24px\">\n",
              "    <g>\n",
              "        <path d=\"M19 3H5c-1.1 0-2 .9-2 2v14c0 1.1.9 2 2 2h14c1.1 0 2-.9 2-2V5c0-1.1-.9-2-2-2zM9 17H7v-7h2v7zm4 0h-2V7h2v10zm4 0h-2v-4h2v4z\"/>\n",
              "    </g>\n",
              "</svg>\n",
              "  </button>\n",
              "\n",
              "<style>\n",
              "  .colab-df-quickchart {\n",
              "      --bg-color: #E8F0FE;\n",
              "      --fill-color: #1967D2;\n",
              "      --hover-bg-color: #E2EBFA;\n",
              "      --hover-fill-color: #174EA6;\n",
              "      --disabled-fill-color: #AAA;\n",
              "      --disabled-bg-color: #DDD;\n",
              "  }\n",
              "\n",
              "  [theme=dark] .colab-df-quickchart {\n",
              "      --bg-color: #3B4455;\n",
              "      --fill-color: #D2E3FC;\n",
              "      --hover-bg-color: #434B5C;\n",
              "      --hover-fill-color: #FFFFFF;\n",
              "      --disabled-bg-color: #3B4455;\n",
              "      --disabled-fill-color: #666;\n",
              "  }\n",
              "\n",
              "  .colab-df-quickchart {\n",
              "    background-color: var(--bg-color);\n",
              "    border: none;\n",
              "    border-radius: 50%;\n",
              "    cursor: pointer;\n",
              "    display: none;\n",
              "    fill: var(--fill-color);\n",
              "    height: 32px;\n",
              "    padding: 0;\n",
              "    width: 32px;\n",
              "  }\n",
              "\n",
              "  .colab-df-quickchart:hover {\n",
              "    background-color: var(--hover-bg-color);\n",
              "    box-shadow: 0 1px 2px rgba(60, 64, 67, 0.3), 0 1px 3px 1px rgba(60, 64, 67, 0.15);\n",
              "    fill: var(--button-hover-fill-color);\n",
              "  }\n",
              "\n",
              "  .colab-df-quickchart-complete:disabled,\n",
              "  .colab-df-quickchart-complete:disabled:hover {\n",
              "    background-color: var(--disabled-bg-color);\n",
              "    fill: var(--disabled-fill-color);\n",
              "    box-shadow: none;\n",
              "  }\n",
              "\n",
              "  .colab-df-spinner {\n",
              "    border: 2px solid var(--fill-color);\n",
              "    border-color: transparent;\n",
              "    border-bottom-color: var(--fill-color);\n",
              "    animation:\n",
              "      spin 1s steps(1) infinite;\n",
              "  }\n",
              "\n",
              "  @keyframes spin {\n",
              "    0% {\n",
              "      border-color: transparent;\n",
              "      border-bottom-color: var(--fill-color);\n",
              "      border-left-color: var(--fill-color);\n",
              "    }\n",
              "    20% {\n",
              "      border-color: transparent;\n",
              "      border-left-color: var(--fill-color);\n",
              "      border-top-color: var(--fill-color);\n",
              "    }\n",
              "    30% {\n",
              "      border-color: transparent;\n",
              "      border-left-color: var(--fill-color);\n",
              "      border-top-color: var(--fill-color);\n",
              "      border-right-color: var(--fill-color);\n",
              "    }\n",
              "    40% {\n",
              "      border-color: transparent;\n",
              "      border-right-color: var(--fill-color);\n",
              "      border-top-color: var(--fill-color);\n",
              "    }\n",
              "    60% {\n",
              "      border-color: transparent;\n",
              "      border-right-color: var(--fill-color);\n",
              "    }\n",
              "    80% {\n",
              "      border-color: transparent;\n",
              "      border-right-color: var(--fill-color);\n",
              "      border-bottom-color: var(--fill-color);\n",
              "    }\n",
              "    90% {\n",
              "      border-color: transparent;\n",
              "      border-bottom-color: var(--fill-color);\n",
              "    }\n",
              "  }\n",
              "</style>\n",
              "\n",
              "  <script>\n",
              "    async function quickchart(key) {\n",
              "      const quickchartButtonEl =\n",
              "        document.querySelector('#' + key + ' button');\n",
              "      quickchartButtonEl.disabled = true;  // To prevent multiple clicks.\n",
              "      quickchartButtonEl.classList.add('colab-df-spinner');\n",
              "      try {\n",
              "        const charts = await google.colab.kernel.invokeFunction(\n",
              "            'suggestCharts', [key], {});\n",
              "      } catch (error) {\n",
              "        console.error('Error during call to suggestCharts:', error);\n",
              "      }\n",
              "      quickchartButtonEl.classList.remove('colab-df-spinner');\n",
              "      quickchartButtonEl.classList.add('colab-df-quickchart-complete');\n",
              "    }\n",
              "    (() => {\n",
              "      let quickchartButtonEl =\n",
              "        document.querySelector('#df-518ff6ec-6d08-4a13-9ae6-93f8e018eafc button');\n",
              "      quickchartButtonEl.style.display =\n",
              "        google.colab.kernel.accessAllowed ? 'block' : 'none';\n",
              "    })();\n",
              "  </script>\n",
              "</div>\n",
              "\n",
              "    </div>\n",
              "  </div>\n"
            ],
            "application/vnd.google.colaboratory.intrinsic+json": {
              "type": "dataframe",
              "summary": "{\n  \"name\": \"cuadro_1\",\n  \"rows\": 8,\n  \"fields\": [\n    {\n      \"column\": \"Habitantes\",\n      \"properties\": {\n        \"dtype\": \"number\",\n        \"std\": 315207.8788354942,\n        \"min\": 10.0,\n        \"max\": 1047996.0,\n        \"num_unique_values\": 8,\n        \"samples\": [\n          386401.4,\n          345407.5,\n          10.0\n        ],\n        \"semantic_type\": \"\",\n        \"description\": \"\"\n      }\n    },\n    {\n      \"column\": \"Area_km2\",\n      \"properties\": {\n        \"dtype\": \"number\",\n        \"std\": 2059.515805384782,\n        \"min\": 10.0,\n        \"max\": 6217.26,\n        \"num_unique_values\": 8,\n        \"samples\": [\n          1334.0330000000001,\n          426.16999999999996,\n          10.0\n        ],\n        \"semantic_type\": \"\",\n        \"description\": \"\"\n      }\n    },\n    {\n      \"column\": \"Altitud_m\",\n      \"properties\": {\n        \"dtype\": \"number\",\n        \"std\": 1209.5434637098986,\n        \"min\": 10.0,\n        \"max\": 3399.0,\n        \"num_unique_values\": 8,\n        \"samples\": [\n          1006.5,\n          155.0,\n          10.0\n        ],\n        \"semantic_type\": \"\",\n        \"description\": \"\"\n      }\n    },\n    {\n      \"column\": \"Densidad_poblacion_por_km2\",\n      \"properties\": {\n        \"dtype\": \"number\",\n        \"std\": 1795.95513327694,\n        \"min\": 10.0,\n        \"max\": 4966.0,\n        \"num_unique_values\": 8,\n        \"samples\": [\n          1917.1200000000001,\n          1143.8,\n          10.0\n        ],\n        \"semantic_type\": \"\",\n        \"description\": \"\"\n      }\n    }\n  ]\n}"
            }
          },
          "metadata": {},
          "execution_count": 4
        }
      ]
    },
    {
      "cell_type": "code",
      "source": [
        "# Densidad poblacional mínima y la ciudad correspondiente\n",
        "densidad_min = cuadro_1['Densidad_poblacion_por_km2'].min()\n",
        "ciudad_min = cuadro_1[cuadro_1['Densidad_poblacion_por_km2'] == densidad_min]['Ciudad'].values[0]\n",
        "\n",
        "# Densidad poblacional máxima y la ciudad correspondiente\n",
        "densidad_max = cuadro_1['Densidad_poblacion_por_km2'].max()\n",
        "ciudad_max = cuadro_1[cuadro_1['Densidad_poblacion_por_km2'] == densidad_max]['Ciudad'].values[0]\n",
        "\n",
        "print(f\"Densidad poblacional mínima: {densidad_min}, Ciudad: {ciudad_min}\")\n",
        "print(f\"Densidad poblacional máxima: {densidad_max}, Ciudad: {ciudad_max}\")\n"
      ],
      "metadata": {
        "colab": {
          "base_uri": "https://localhost:8080/"
        },
        "id": "TbwYYmhL4fyJ",
        "outputId": "2370e918-c4ee-43d3-b799-ceebe1fba10a"
      },
      "execution_count": null,
      "outputs": [
        {
          "output_type": "stream",
          "name": "stdout",
          "text": [
            "Densidad poblacional mínima: 62.1, Ciudad: Trujillo\n",
            "Densidad poblacional máxima: 4966.0, Ciudad: Tacna\n"
          ]
        }
      ]
    },
    {
      "cell_type": "markdown",
      "source": [
        "V. Realizar un gráfico de barras donde se vea la cantidad de habitantes en cada ciudad"
      ],
      "metadata": {
        "id": "5RYWNLSA4jDY"
      }
    },
    {
      "cell_type": "code",
      "source": [
        "import matplotlib.pyplot as plt\n",
        "\n",
        "# Datos para el gráfico: ciudades y número de habitantes\n",
        "ciudades = cuadro_1['Ciudad']\n",
        "habitantes = cuadro_1['Habitantes']\n",
        "\n",
        "# Crear el gráfico de barras\n",
        "plt.figure(figsize=(10, 6))\n",
        "plt.bar(ciudades, habitantes, color='skyblue')\n",
        "\n",
        "# Agregar título y etiquetas\n",
        "plt.title('Cantidad de Habitantes por Ciudad')\n",
        "plt.xlabel('Ciudad')\n",
        "plt.ylabel('Número de Habitantes')\n",
        "\n",
        "plt.xticks(rotation=45)\n",
        "\n",
        "plt.show()\n"
      ],
      "metadata": {
        "colab": {
          "base_uri": "https://localhost:8080/",
          "height": 609
        },
        "id": "M07ywcSP4lJA",
        "outputId": "cc736cd1-6111-43e3-8d98-2d72ac97f9f1"
      },
      "execution_count": null,
      "outputs": [
        {
          "output_type": "display_data",
          "data": {
            "text/plain": [
              "<Figure size 1000x600 with 1 Axes>"
            ],
            "image/png": "[encoded data removed]"
          },
          "metadata": {}
        }
      ]
    },
    {
      "cell_type": "markdown",
      "source": [
        "VI. Realizar un gráfico de dispersión entre la altura y el número de habitantes en las\n",
        "ciudades del dataframe.\n"
      ],
      "metadata": {
        "id": "5jaYKbIk4r_g"
      }
    },
    {
      "cell_type": "code",
      "source": [
        "import matplotlib.pyplot as plt\n",
        "\n",
        "# Datos para el gráfico de dispersión\n",
        "altura = cuadro_1['Altitud_m']\n",
        "habitantes = cuadro_1['Habitantes']\n",
        "\n",
        "# Crear el gráfico de dispersión\n",
        "plt.figure(figsize=(10, 6))\n",
        "plt.scatter(altura, habitantes, color='purple')\n",
        "\n",
        "# Agregar título y etiquetas\n",
        "plt.title('Relación entre Altitud y Número de Habitantes')\n",
        "plt.xlabel('Altitud (m)')\n",
        "plt.ylabel('Número de Habitantes')\n",
        "\n",
        "plt.show()\n"
      ],
      "metadata": {
        "colab": {
          "base_uri": "https://localhost:8080/",
          "height": 565
        },
        "id": "LPzFvkKo4uC4",
        "outputId": "4f8cbbb4-2cd6-47f2-a684-00dea47273bc"
      },
      "execution_count": null,
      "outputs": [
        {
          "output_type": "display_data",
          "data": {
            "text/plain": [
              "<Figure size 1000x600 with 1 Axes>"
            ],
            "image/png": "[encoded data removed]"
          },
          "metadata": {}
        }
      ]
    }
  ]
}