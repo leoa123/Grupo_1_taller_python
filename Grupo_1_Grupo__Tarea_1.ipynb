{
  "nbformat": 4,
  "nbformat_minor": 0,
  "metadata": {
    "colab": {
      "provenance": []
    },
    "kernelspec": {
      "name": "python3",
      "display_name": "Python 3"
    },
    "language_info": {
      "name": "python"
    }
  },
  "cells": [
    {
      "cell_type": "markdown",
      "source": [
        "**Tarea 1 del taller de Python **"
      ],
      "metadata": {
        "id": "AJwKKyEXqnFU"
      }
    },
    {
      "cell_type": "markdown",
      "source": [
        "I. Utilizando un “if else” cree una estructura que evalúe “x” tal que:\n",
        "Si x es múltiplo de 2 imprima “Es múltiplo de 2”.\n",
        "Si x es múltiplo de 3 imprima “Es múltiplo de 3”\n",
        "Si x es múltiplo de 2 y 3 imprima “Es múltiplo de 2 y 3”\n",
        "Para otro caso, imprime “Otro caso”\n",
        "Muestra un ejemplo con x = 6."
      ],
      "metadata": {
        "id": "Zni9TnyIqzQz"
      }
    },
    {
      "cell_type": "code",
      "execution_count": null,
      "metadata": {
        "colab": {
          "base_uri": "https://localhost:8080/"
        },
        "id": "loLDi66WqBEK",
        "outputId": "0d5a3b2b-d27e-487c-f8b9-b0f3517cb6cd"
      },
      "outputs": [
        {
          "output_type": "stream",
          "name": "stdout",
          "text": [
            "Otro caso\n"
          ]
        }
      ],
      "source": [
        "# Ejemplo con x = 6\n",
        "x = 7\n",
        "\n",
        "# múltiplo de 2 y 3\n",
        "if x % 2 == 0 and x % 3 == 0:\n",
        "    print(\"Es múltiplo de 2 y 3\")\n",
        "# Verificar si es múltiplo de 2\n",
        "elif x % 2 == 0:\n",
        "    print(\"Es múltiplo de 2\")\n",
        "# Verificar si es múltiplo de 3\n",
        "elif x % 3 == 0:\n",
        "    print(\"Es múltiplo de 3\")\n",
        "# Otro caso\n",
        "else:\n",
        "    print(\"Otro caso\")\n"
      ]
    },
    {
      "cell_type": "markdown",
      "source": [
        "II. Utilizando un “for loop” y el condicional “if else” para un rango del 1 al 100, evalúe “x”\n",
        "tal que:\n",
        "Si x es múltiplo de 3 imprima “Fizz”\n",
        "Si x es múltiplo de 5 imprima “Buzz”\n",
        "Si x es múltiplo de 3 y 5 imprima “FizzBuzz”\n",
        "Para el resto de los casos, solo imprima el número."
      ],
      "metadata": {
        "id": "nMbdQqdjrBWs"
      }
    },
    {
      "cell_type": "code",
      "source": [
        "# Recorremos los números del 1 al 100\n",
        "for x in range(1, 100):\n",
        "    # Verificamos si es múltiplo de 3 y 5\n",
        "    if x % 3 == 0 and x % 5 == 0:\n",
        "        print(\"FizzBuzz\")\n",
        "    # Verificamos si es múltiplo de 3\n",
        "    elif x % 3 == 0:\n",
        "        print(\"Fizz\")\n",
        "    # Verificamos si es múltiplo de 5\n",
        "    elif x % 5 == 0:\n",
        "        print(\"Buzz\")\n",
        "    # En cualquier otro caso, imprimimos el número\n",
        "    else:\n",
        "        print(x)\n"
      ],
      "metadata": {
        "colab": {
          "base_uri": "https://localhost:8080/"
        },
        "id": "t7K9XUaCqlT0",
        "outputId": "a3829ec4-0424-4bae-a194-6e2907919cf8"
      },
      "execution_count": null,
      "outputs": [
        {
          "output_type": "stream",
          "name": "stdout",
          "text": [
            "1\n",
            "2\n",
            "Fizz\n",
            "4\n",
            "Buzz\n",
            "Fizz\n",
            "7\n",
            "8\n",
            "Fizz\n",
            "Buzz\n",
            "11\n",
            "Fizz\n",
            "13\n",
            "14\n",
            "FizzBuzz\n",
            "16\n",
            "17\n",
            "Fizz\n",
            "19\n",
            "Buzz\n",
            "Fizz\n",
            "22\n",
            "23\n",
            "Fizz\n",
            "Buzz\n",
            "26\n",
            "Fizz\n",
            "28\n",
            "29\n",
            "FizzBuzz\n",
            "31\n",
            "32\n",
            "Fizz\n",
            "34\n",
            "Buzz\n",
            "Fizz\n",
            "37\n",
            "38\n",
            "Fizz\n",
            "Buzz\n",
            "41\n",
            "Fizz\n",
            "43\n",
            "44\n",
            "FizzBuzz\n",
            "46\n",
            "47\n",
            "Fizz\n",
            "49\n",
            "Buzz\n",
            "Fizz\n",
            "52\n",
            "53\n",
            "Fizz\n",
            "Buzz\n",
            "56\n",
            "Fizz\n",
            "58\n",
            "59\n",
            "FizzBuzz\n",
            "61\n",
            "62\n",
            "Fizz\n",
            "64\n",
            "Buzz\n",
            "Fizz\n",
            "67\n",
            "68\n",
            "Fizz\n",
            "Buzz\n",
            "71\n",
            "Fizz\n",
            "73\n",
            "74\n",
            "FizzBuzz\n",
            "76\n",
            "77\n",
            "Fizz\n",
            "79\n",
            "Buzz\n",
            "Fizz\n",
            "82\n",
            "83\n",
            "Fizz\n",
            "Buzz\n",
            "86\n",
            "Fizz\n",
            "88\n",
            "89\n",
            "FizzBuzz\n",
            "91\n",
            "92\n",
            "Fizz\n",
            "94\n",
            "Buzz\n",
            "Fizz\n",
            "97\n",
            "98\n",
            "Fizz\n"
          ]
        }
      ]
    },
    {
      "cell_type": "markdown",
      "source": [
        "III. Crea una función 𝒄𝒂𝒍𝒄𝒖𝒍𝒂𝒓_𝒅𝒆𝒔𝒄𝒖𝒆𝒏𝒕𝒐() que permita calcular el descuento aplicado a un\n",
        "producto. Si el total es mayor o igual a 1000, aplica un 20% de descuento, si el total es mayor\n",
        "o igual a 500 pero menor a 1000, aplica un 10% de descuento. Si el total es menor a 500, no\n",
        "aplica ningún descuento. La función debe devolver el total final después de aplicar el\n",
        "descuento. Prueba la función con un total de compra de 1200, 750 y 300"
      ],
      "metadata": {
        "id": "Mx40srDXrXAM"
      }
    },
    {
      "cell_type": "code",
      "source": [
        "def calcular_descuento(total):\n",
        "    if total >= 1000:\n",
        "        total_final = total * 0.8  # Aplica 20% de descuento\n",
        "    elif total >= 500:\n",
        "        total_final = total * 0.9  # Aplica 10% de descuento\n",
        "    else:\n",
        "        total_final = total  # No aplica descuento\n",
        "\n",
        "    return total_final\n",
        "\n",
        "# Prueba de la función con los valores 1200, 750 y 300\n",
        "print(f\"Total con descuento para 1200: {calcular_descuento(1200)}\")\n",
        "print(f\"Total con descuento para 750: {calcular_descuento(750)}\")\n",
        "print(f\"Total con descuento para 300: {calcular_descuento(300)}\")\n"
      ],
      "metadata": {
        "colab": {
          "base_uri": "https://localhost:8080/"
        },
        "id": "-_f9vYbnrvWL",
        "outputId": "bc4b2b18-280f-4478-fd04-5c4eebd07186"
      },
      "execution_count": null,
      "outputs": [
        {
          "output_type": "stream",
          "name": "stdout",
          "text": [
            "Total con descuento para 1200: 960.0\n",
            "Total con descuento para 750: 675.0\n",
            "Total con descuento para 300: 300\n"
          ]
        }
      ]
    },
    {
      "cell_type": "markdown",
      "source": [
        "IV. Crea una función llamada 𝒄𝒍𝒂𝒔𝒊𝒇𝒊𝒄𝒂𝒓_𝒆𝒅𝒂𝒅() que reciba como parámetro la edad de una\n",
        "persona. La función debe clasificar a la persona en una de las siguientes categorías:\n",
        "\"Niño\" si la edad es menor de 12 años.\n",
        "\"Adolescente\" si la edad está entre 12 y 17 años.\n",
        "“Joven” si la edad está entre 18 y 24 años.\n",
        "\"Adulto\" si la edad está entre 25 y 64 años.\n",
        "\"Adulto Mayor\" si la edad es mayor o igual a 65 años.\n",
        "La función debe devolver la categoría correspondiente. Prueba la función con las edades de\n",
        "10, 19, 25 y 70.\n"
      ],
      "metadata": {
        "id": "IGpqArVRr2Xr"
      }
    },
    {
      "cell_type": "code",
      "source": [
        "def clasificar_edad(edad):\n",
        "    if edad < 12:\n",
        "        return \"Niño\"\n",
        "    elif 12 <= edad <= 17:\n",
        "        return \"Adolescente\"\n",
        "    elif 18 <= edad <= 24:\n",
        "        return \"Joven\"\n",
        "    elif 25 <= edad <= 64:\n",
        "        return \"Adulto\"\n",
        "    elif edad >= 65:\n",
        "        return \"Adulto Mayor\"\n",
        "\n",
        "# Prueba de la función con las edades 10, 19, 25 y 70\n",
        "edades = [10, 19, 25, 70]\n",
        "for edad in edades:\n",
        "    categoria = clasificar_edad(edad)\n",
        "    print(f\"Edad: {edad} - Categoría: {categoria}\")\n"
      ],
      "metadata": {
        "colab": {
          "base_uri": "https://localhost:8080/"
        },
        "id": "dyW0psV9sDJb",
        "outputId": "fa6860c4-6b61-4d77-df60-121cdb78d2df"
      },
      "execution_count": null,
      "outputs": [
        {
          "output_type": "stream",
          "name": "stdout",
          "text": [
            "Edad: 10 - Categoría: Niño\n",
            "Edad: 19 - Categoría: Joven\n",
            "Edad: 25 - Categoría: Adulto\n",
            "Edad: 70 - Categoría: Adulto Mayor\n"
          ]
        }
      ]
    },
    {
      "cell_type": "markdown",
      "source": [
        "V. Sea la fórmula del CRAEST PUCP\n",
        "𝑪𝑹𝑨𝑬𝑺𝑻 =\n",
        "((𝑴𝒆𝒅𝒊𝒂 𝒑𝒆𝒓𝒔𝒐𝒏𝒂𝒍 – 𝒎𝒆𝒅𝒊𝒂 𝒅𝒆𝒍 𝒄𝒖𝒓𝒔𝒐)∗ 𝟏𝟎)/𝑫𝒆𝒔𝒗𝒊𝒂𝒄𝒊ó𝒏𝒆𝒔𝒕á𝒏𝒅𝒂𝒓 𝒅𝒆𝒍 𝒄𝒖𝒓𝒔𝒐 + 𝟓𝟎\n",
        "Crea una función 𝒄𝒂𝒍𝒄𝒖𝒍𝒂𝒓_𝒄𝒓𝒂𝒆𝒔𝒕(𝒎𝒆𝒅𝒊𝒂_𝒑𝒆𝒓𝒔𝒐𝒏𝒂𝒍,𝒎𝒆𝒅𝒊𝒂_𝒄𝒖𝒓𝒔𝒐,𝒅𝒆𝒔𝒗𝒊𝒂𝒄𝒊𝒐𝒏_𝒄𝒖𝒓𝒔𝒐) que\n",
        "reciba como tres únicos inputs tu media, la media del curso y la desviación estándar del curso\n",
        "y te devuelva tu craest calculado. No te olvides documentar la función usando triple comillas\n",
        "“””.\n",
        "Prueba la función los datos de algún curso que hayas llevado."
      ],
      "metadata": {
        "id": "F2K7Sy48ssV8"
      }
    },
    {
      "cell_type": "code",
      "source": [
        "def calcular_craest(media_personal, media_curso, desviacion_curso):\n",
        "\n",
        "    # Se calcula el CRAEST usando la fórmula proporcionada\n",
        "    craest = ((media_personal - media_curso) * 10) / desviacion_curso + 50\n",
        "    return craest\n",
        "\n",
        "# Prueba de la función con valores de ejemplo\n",
        "resultado = calcular_craest(13, 14, 2)\n",
        "print(resultado)\n"
      ],
      "metadata": {
        "id": "a3E0PA3DswN7",
        "outputId": "84b6cd1c-4f2f-41f0-b773-9eb7e2f585ae",
        "colab": {
          "base_uri": "https://localhost:8080/"
        }
      },
      "execution_count": null,
      "outputs": [
        {
          "output_type": "stream",
          "name": "stdout",
          "text": [
            "45.0\n"
          ]
        }
      ]
    }
  ]
}